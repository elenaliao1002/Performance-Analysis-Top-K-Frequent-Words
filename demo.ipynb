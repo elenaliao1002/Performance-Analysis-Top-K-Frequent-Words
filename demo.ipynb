{
 "cells": [
  {
   "attachments": {},
   "cell_type": "markdown",
   "id": "81f681ef-7edb-43ce-b2c1-c4ed9f61a528",
   "metadata": {},
   "source": [
    "## import packages"
   ]
  },
  {
   "cell_type": "code",
   "execution_count": 2,
   "id": "1e0a0d0f-116d-4b08-8a99-4d45d345f927",
   "metadata": {},
   "outputs": [
    {
     "name": "stdout",
     "output_type": "stream",
     "text": [
      "The memory_profiler extension is already loaded. To reload it, use:\n",
      "  %reload_ext memory_profiler\n"
     ]
    }
   ],
   "source": [
    "from preprocess import *\n",
    "from top_k_words import *\n",
    "from performance import *\n",
    "\n",
    "%load_ext memory_profiler"
   ]
  },
  {
   "attachments": {},
   "cell_type": "markdown",
   "id": "a71dda3a-a8e4-4558-ad55-ec3b3ea7fef0",
   "metadata": {},
   "source": [
    "## download data\n",
    "`!python fetch_data.py`"
   ]
  },
  {
   "attachments": {},
   "cell_type": "markdown",
   "id": "c2adf184-8f89-4825-a44f-7d7f3678fae2",
   "metadata": {},
   "source": [
    "## tokenize"
   ]
  },
  {
   "cell_type": "code",
   "execution_count": 3,
   "id": "4c6e8c42-fcb6-4846-b639-6ac68039c1e6",
   "metadata": {},
   "outputs": [],
   "source": [
    "small_file_name = 'dataset/data_300MB.txt'\n",
    "medium_file_name = 'dataset/data_2.5GB.txt'\n",
    "large_file_name = 'dataset/data_16GB.txt'\n",
    "\n",
    "stopwords_file = 'stopwords.txt'\n",
    "stopwords = get_stopwords(stopwords_file)\n",
    "\n",
    "k = 10"
   ]
  },
  {
   "cell_type": "code",
   "execution_count": 19,
   "id": "37ed631c-8685-40fe-97b3-f33886e10099",
   "metadata": {},
   "outputs": [],
   "source": [
    "small_file_tokens = tokenize_parallel_multiprocessing(small_file_name, stopwords, num_processes=36)"
   ]
  },
  {
   "cell_type": "code",
   "execution_count": 4,
   "id": "1a467974-3546-4015-a411-bc55dc69dd4b",
   "metadata": {},
   "outputs": [],
   "source": [
    "medium_file_tokens = tokenize_parallel_multiprocessing(medium_file_name, stopwords, num_processes=36)"
   ]
  },
  {
   "cell_type": "code",
   "execution_count": 5,
   "id": "99c67537-2545-4c92-b7e0-1896a8387444",
   "metadata": {},
   "outputs": [],
   "source": [
    "large_file_tokens = tokenize_parallel_multiprocessing(large_file_name, stopwords, num_processes=36)"
   ]
  },
  {
   "cell_type": "code",
   "execution_count": null,
   "id": "1a9002b8",
   "metadata": {},
   "outputs": [],
   "source": [
    "def tokenize_stream(file_name, stopwords):\n",
    "    tokens = []\n",
    "    with open(file_name, 'r') as f:\n",
    "        for line in f:\n",
    "            line = line.strip().lower()\n",
    "            words = line.split(' ')\n",
    "            words = [w for w in words if w not in stopwords and w.isalpha()]\n",
    "            tokens.extend(words)\n",
    "    return tokens"
   ]
  },
  {
   "cell_type": "code",
   "execution_count": null,
   "id": "bee81cc1",
   "metadata": {},
   "outputs": [],
   "source": [
    "large_file_tokens = tokenize_stream(large_file_name, stopwords, num_processes=36)"
   ]
  },
  {
   "cell_type": "code",
   "execution_count": 20,
   "id": "2c11d747",
   "metadata": {},
   "outputs": [
    {
     "name": "stdout",
     "output_type": "stream",
     "text": [
      "tokens length of data_2.5GB.txt: 194919696\n"
     ]
    }
   ],
   "source": [
    "print(f\"tokens length of data_2.5GB.txt: {len(medium_file_tokens)}\")"
   ]
  },
  {
   "cell_type": "code",
   "execution_count": null,
   "id": "b6b0b30e",
   "metadata": {},
   "outputs": [],
   "source": [
    "print(f\"tokens length of data_16GB.txt: {len(large_file_tokens)}\")"
   ]
  },
  {
   "attachments": {},
   "cell_type": "markdown",
   "id": "d1a5120c-3e5c-4c28-b82e-424da98b9605",
   "metadata": {},
   "source": [
    "## analysis"
   ]
  },
  {
   "attachments": {},
   "cell_type": "markdown",
   "id": "fdd1c435-47db-4b26-b727-1f87a0afa6b5",
   "metadata": {},
   "source": [
    "### Approach 1: Sorting"
   ]
  },
  {
   "attachments": {},
   "cell_type": "markdown",
   "id": "879af341-2a00-441c-b5c7-a75f4f4e6e2c",
   "metadata": {},
   "source": [
    "#### A text file of size 300MB"
   ]
  },
  {
   "cell_type": "code",
   "execution_count": 4,
   "id": "f9d59db0-3200-4166-8ed9-0f07e1332c4f",
   "metadata": {},
   "outputs": [
    {
     "data": {
      "text/plain": [
       "['european',\n",
       " 'mr',\n",
       " 'would',\n",
       " 'also',\n",
       " 'must',\n",
       " 'commission',\n",
       " 'member',\n",
       " 'like',\n",
       " 'one',\n",
       " 'parliament']"
      ]
     },
     "execution_count": 4,
     "metadata": {},
     "output_type": "execute_result"
    }
   ],
   "source": [
    "sorting(small_file_tokens, k)"
   ]
  },
  {
   "cell_type": "code",
   "execution_count": 5,
   "id": "c8824684-bd20-4ba8-94b4-bfde5a3c2d5f",
   "metadata": {},
   "outputs": [
    {
     "name": "stdout",
     "output_type": "stream",
     "text": [
      "1.94 s ± 19.5 ms per loop (mean ± std. dev. of 7 runs, 1 loop each)\n"
     ]
    }
   ],
   "source": [
    "%%timeit\n",
    "sorting(small_file_tokens, k)"
   ]
  },
  {
   "cell_type": "code",
   "execution_count": null,
   "id": "609b38ad",
   "metadata": {},
   "outputs": [
    {
     "name": "stdout",
     "output_type": "stream",
     "text": [
      "sorting small 300MB file - wall time takes 2.015151023864746 seconds\n",
      "sorting small 300MB file - run time takes 2.0158687519999994 seconds\n"
     ]
    }
   ],
   "source": [
    "start_time = time.time()\n",
    "run_start_time = time.process_time()\n",
    "sorting(small_file_tokens, k)\n",
    "end_time = time.time()\n",
    "run_end_time = time.process_time()\n",
    "\n",
    "print(f\"sorting small 300MB file - wall time takes {end_time - start_time} seconds\")\n",
    "print(f\"sorting small 300MB file - run time takes {run_end_time - run_start_time} seconds\")"
   ]
  },
  {
   "cell_type": "code",
   "execution_count": 6,
   "id": "3da94a0d-2b21-49ac-b02a-29a9fcfb8358",
   "metadata": {},
   "outputs": [
    {
     "name": "stdout",
     "output_type": "stream",
     "text": [
      "peak memory: 2050.93 MiB, increment: 0.00 MiB\n"
     ]
    }
   ],
   "source": [
    "%%memit\n",
    "sorting(small_file_tokens, k)"
   ]
  },
  {
   "attachments": {},
   "cell_type": "markdown",
   "id": "3b12a90e-f6b1-42a9-8789-a0079608a911",
   "metadata": {},
   "source": [
    "#### A text file of size 2.5GB"
   ]
  },
  {
   "cell_type": "code",
   "execution_count": 5,
   "id": "31fd92a0-5c98-476a-86e2-c9015668fdbb",
   "metadata": {},
   "outputs": [
    {
     "data": {
      "text/plain": [
       "['said', 'would', 'one', 'new', 'also', 'last', 'de', 'two', 'people', 'first']"
      ]
     },
     "execution_count": 5,
     "metadata": {},
     "output_type": "execute_result"
    }
   ],
   "source": [
    "sorting(medium_file_tokens, k)"
   ]
  },
  {
   "cell_type": "code",
   "execution_count": 6,
   "id": "51a88fd7-3cd9-4c84-b7ee-9f976ff0e72f",
   "metadata": {},
   "outputs": [
    {
     "name": "stdout",
     "output_type": "stream",
     "text": [
      "1min 40s ± 3.36 s per loop (mean ± std. dev. of 7 runs, 1 loop each)\n"
     ]
    }
   ],
   "source": [
    "%%timeit\n",
    "sorting(medium_file_tokens, k)"
   ]
  },
  {
   "cell_type": "code",
   "execution_count": 14,
   "id": "f78291e1",
   "metadata": {},
   "outputs": [
    {
     "name": "stdout",
     "output_type": "stream",
     "text": [
      "sorting medium 2.5G file - wall time takes 80.94257712364197 seconds\n",
      "sorting medium 2.5G file - run time takes 70.25941499999999 seconds\n"
     ]
    }
   ],
   "source": [
    "start_time = time.time()\n",
    "run_start_time = time.process_time()\n",
    "sorting(medium_file_tokens, k)\n",
    "end_time = time.time()\n",
    "run_end_time = time.process_time()\n",
    "\n",
    "print(f\"sorting medium 2.5G file - wall time takes {end_time - start_time} seconds\")\n",
    "print(f\"sorting medium 2.5G file - run time takes {run_end_time - run_start_time} seconds\")"
   ]
  },
  {
   "cell_type": "code",
   "execution_count": 7,
   "id": "7d29331b-f423-4a8f-b52e-186a64054a88",
   "metadata": {},
   "outputs": [
    {
     "name": "stdout",
     "output_type": "stream",
     "text": [
      "peak memory: 2279.48 MiB, increment: -237.76 MiB\n"
     ]
    }
   ],
   "source": [
    "%%memit\n",
    "sorting(medium_file_tokens, k)"
   ]
  },
  {
   "attachments": {},
   "cell_type": "markdown",
   "id": "5a3de299-faf8-431f-82a9-be13564d002c",
   "metadata": {},
   "source": [
    "#### A text file of size 16GB"
   ]
  },
  {
   "cell_type": "code",
   "execution_count": null,
   "id": "74bb079d-c200-444e-823e-29aed117d9dc",
   "metadata": {},
   "outputs": [],
   "source": [
    "sorting(large_file_tokens, k)"
   ]
  },
  {
   "cell_type": "code",
   "execution_count": null,
   "id": "58af6174-a8ad-4ce4-83db-e2e63d838184",
   "metadata": {},
   "outputs": [],
   "source": [
    "%%timeit\n",
    "sorting(large_file_tokens, k)"
   ]
  },
  {
   "cell_type": "code",
   "execution_count": null,
   "id": "ad03e40a-8e86-4c7a-ba32-c9ee243ddb14",
   "metadata": {},
   "outputs": [],
   "source": [
    "%%memit\n",
    "sorting(large_file_tokens, k)"
   ]
  },
  {
   "attachments": {},
   "cell_type": "markdown",
   "id": "c873819c-85b9-4881-91be-a98851fd4a8c",
   "metadata": {},
   "source": [
    "### Approach 2: Max Heap (Priority Queue)"
   ]
  },
  {
   "attachments": {},
   "cell_type": "markdown",
   "id": "7b183fa9-8316-41c8-98a3-4a266df9e28b",
   "metadata": {},
   "source": [
    "#### A text file of size 300MB"
   ]
  },
  {
   "cell_type": "code",
   "execution_count": 7,
   "id": "3ba6c916-a84b-4c4c-9544-283e1b9d240b",
   "metadata": {},
   "outputs": [
    {
     "data": {
      "text/plain": [
       "['european',\n",
       " 'mr',\n",
       " 'would',\n",
       " 'also',\n",
       " 'must',\n",
       " 'commission',\n",
       " 'member',\n",
       " 'like',\n",
       " 'one',\n",
       " 'parliament']"
      ]
     },
     "execution_count": 7,
     "metadata": {},
     "output_type": "execute_result"
    }
   ],
   "source": [
    "maxHeap(small_file_tokens, k)"
   ]
  },
  {
   "cell_type": "code",
   "execution_count": 8,
   "id": "637b9e77-a43d-467c-a1a2-537ee615c97c",
   "metadata": {},
   "outputs": [
    {
     "name": "stdout",
     "output_type": "stream",
     "text": [
      "1.94 s ± 26.3 ms per loop (mean ± std. dev. of 7 runs, 1 loop each)\n"
     ]
    }
   ],
   "source": [
    "%%timeit\n",
    "maxHeap(small_file_tokens, k)"
   ]
  },
  {
   "cell_type": "code",
   "execution_count": null,
   "id": "7e698be1",
   "metadata": {},
   "outputs": [
    {
     "name": "stdout",
     "output_type": "stream",
     "text": [
      "maxHeap small 300MB file - wall time takes 2.484095811843872 seconds\n",
      "maxHeap small 300MB file - run time takes 2.485721170999999 seconds\n"
     ]
    }
   ],
   "source": [
    "start_time = time.time()\n",
    "run_start_time = time.process_time()\n",
    "maxHeap(small_file_tokens, k)\n",
    "end_time = time.time()\n",
    "run_end_time = time.process_time()\n",
    "\n",
    "print(f\"maxHeap small 300MB file - wall time takes {end_time - start_time} seconds\")\n",
    "print(f\"maxHeap small 300MB file - run time takes {run_end_time - run_start_time} seconds\")"
   ]
  },
  {
   "cell_type": "code",
   "execution_count": 9,
   "id": "31b2a2ae-ddb7-4bb4-af19-748006895fdb",
   "metadata": {},
   "outputs": [
    {
     "name": "stdout",
     "output_type": "stream",
     "text": [
      "peak memory: 2050.95 MiB, increment: 0.00 MiB\n"
     ]
    }
   ],
   "source": [
    "%%memit\n",
    "maxHeap(small_file_tokens, k)"
   ]
  },
  {
   "attachments": {},
   "cell_type": "markdown",
   "id": "a39cab2d-bc25-4434-93f1-880c190dc3c7",
   "metadata": {},
   "source": [
    "#### A text file of size 2.5GB"
   ]
  },
  {
   "cell_type": "code",
   "execution_count": 8,
   "id": "d1ac0316-5358-4b32-83fe-258147065dba",
   "metadata": {},
   "outputs": [
    {
     "data": {
      "text/plain": [
       "['said', 'would', 'one', 'new', 'also', 'last', 'de', 'two', 'people', 'first']"
      ]
     },
     "execution_count": 8,
     "metadata": {},
     "output_type": "execute_result"
    }
   ],
   "source": [
    "maxHeap(medium_file_tokens, k)"
   ]
  },
  {
   "cell_type": "code",
   "execution_count": 9,
   "id": "6f811557-6548-4708-b6f9-e119fff2c4cf",
   "metadata": {},
   "outputs": [
    {
     "name": "stdout",
     "output_type": "stream",
     "text": [
      "1min 34s ± 11.5 s per loop (mean ± std. dev. of 7 runs, 1 loop each)\n"
     ]
    }
   ],
   "source": [
    "%%timeit\n",
    "maxHeap(medium_file_tokens, k)"
   ]
  },
  {
   "cell_type": "code",
   "execution_count": 15,
   "id": "a426fe93",
   "metadata": {},
   "outputs": [
    {
     "name": "stdout",
     "output_type": "stream",
     "text": [
      "maxHeap medium 2.5G file - wall time takes 98.83587622642517 seconds\n",
      "maxHeap medium 2.5G file - run time takes 76.18272200000001 seconds\n"
     ]
    }
   ],
   "source": [
    "start_time = time.time()\n",
    "run_start_time = time.process_time()\n",
    "maxHeap(medium_file_tokens, k)\n",
    "end_time = time.time()\n",
    "run_end_time = time.process_time()\n",
    "\n",
    "print(f\"maxHeap medium 2.5G file - wall time takes {end_time - start_time} seconds\")\n",
    "print(f\"maxHeap medium 2.5G file - run time takes {run_end_time - run_start_time} seconds\")"
   ]
  },
  {
   "cell_type": "code",
   "execution_count": 10,
   "id": "be455643-cb2c-41b5-804f-d961eb3d07c4",
   "metadata": {},
   "outputs": [
    {
     "name": "stdout",
     "output_type": "stream",
     "text": [
      "peak memory: 2670.27 MiB, increment: -43.81 MiB\n"
     ]
    }
   ],
   "source": [
    "%%memit\n",
    "maxHeap(medium_file_tokens, k)"
   ]
  },
  {
   "attachments": {},
   "cell_type": "markdown",
   "id": "6c76ac63-2a7b-42cb-b4c6-d07e6ccacbaa",
   "metadata": {},
   "source": [
    "#### A text file of size 16GB"
   ]
  },
  {
   "cell_type": "code",
   "execution_count": null,
   "id": "d205446c-073d-4ccf-bb21-b8e39ee1c9a4",
   "metadata": {},
   "outputs": [],
   "source": [
    "maxHeap(large_file_tokens, k)"
   ]
  },
  {
   "cell_type": "code",
   "execution_count": null,
   "id": "a52d96a0-a1fc-4419-82af-0883df36f294",
   "metadata": {},
   "outputs": [],
   "source": [
    "%%timeit\n",
    "maxHeap(large_file_tokens, k)"
   ]
  },
  {
   "cell_type": "code",
   "execution_count": null,
   "id": "0ed8e88c-7ee0-4e21-abcc-02606e9e0979",
   "metadata": {},
   "outputs": [],
   "source": [
    "%%memit\n",
    "maxHeap(large_file_tokens, k)"
   ]
  },
  {
   "attachments": {},
   "cell_type": "markdown",
   "id": "e47a9dec-49ec-4e1a-a32b-cc1babb08b6e",
   "metadata": {},
   "source": [
    "### Approach 3: Bucket Sort"
   ]
  },
  {
   "attachments": {},
   "cell_type": "markdown",
   "id": "68b2a026-1161-47e3-a483-29d7a12651c8",
   "metadata": {},
   "source": [
    "#### A text file of size 300MB"
   ]
  },
  {
   "cell_type": "code",
   "execution_count": 10,
   "id": "d11c8a12-6976-4ace-a3b4-98c5aaffe3c7",
   "metadata": {},
   "outputs": [
    {
     "data": {
      "text/plain": [
       "['european',\n",
       " 'mr',\n",
       " 'would',\n",
       " 'also',\n",
       " 'must',\n",
       " 'commission',\n",
       " 'member',\n",
       " 'like',\n",
       " 'one',\n",
       " 'parliament']"
      ]
     },
     "execution_count": 10,
     "metadata": {},
     "output_type": "execute_result"
    }
   ],
   "source": [
    "bucketSort(small_file_tokens, k)"
   ]
  },
  {
   "cell_type": "code",
   "execution_count": 11,
   "id": "34ba3463-dc55-4d09-aa34-6c9321ad5c0c",
   "metadata": {},
   "outputs": [
    {
     "name": "stdout",
     "output_type": "stream",
     "text": [
      "2.03 s ± 23 ms per loop (mean ± std. dev. of 7 runs, 1 loop each)\n"
     ]
    }
   ],
   "source": [
    "%%timeit\n",
    "bucketSort(small_file_tokens, k)"
   ]
  },
  {
   "cell_type": "code",
   "execution_count": null,
   "id": "c406ee1a",
   "metadata": {},
   "outputs": [
    {
     "name": "stdout",
     "output_type": "stream",
     "text": [
      "bucketSort small 300MB file - wall time takes 3.093019723892212 seconds\n",
      "bucketSort small 300MB file - run time takes 3.095347041 seconds\n"
     ]
    }
   ],
   "source": [
    "start_time = time.time()\n",
    "run_start_time = time.process_time()\n",
    "bucketSort(small_file_tokens, k)\n",
    "end_time = time.time()\n",
    "run_end_time = time.process_time()\n",
    "\n",
    "print(f\"bucketSort small 300MB file - wall time takes {end_time - start_time} seconds\")\n",
    "print(f\"bucketSort small 300MB file - run time takes {run_end_time - run_start_time} seconds\")"
   ]
  },
  {
   "cell_type": "code",
   "execution_count": 12,
   "id": "80893503-75d5-4dc3-96b8-cd2ac54652b5",
   "metadata": {},
   "outputs": [
    {
     "name": "stdout",
     "output_type": "stream",
     "text": [
      "peak memory: 2050.98 MiB, increment: 0.00 MiB\n"
     ]
    }
   ],
   "source": [
    "%%memit\n",
    "bucketSort(small_file_tokens, k)"
   ]
  },
  {
   "attachments": {},
   "cell_type": "markdown",
   "id": "a7e6f57d-9c35-44b4-aa7b-99124b377a25",
   "metadata": {},
   "source": [
    "#### A text file of size 2.5GB"
   ]
  },
  {
   "cell_type": "code",
   "execution_count": 11,
   "id": "d60ac3c4-ee78-486e-865e-8eb1a7b15d48",
   "metadata": {},
   "outputs": [
    {
     "data": {
      "text/plain": [
       "['said', 'would', 'one', 'new', 'also', 'last', 'de', 'two', 'people', 'first']"
      ]
     },
     "execution_count": 11,
     "metadata": {},
     "output_type": "execute_result"
    }
   ],
   "source": [
    "bucketSort(medium_file_tokens, k)"
   ]
  },
  {
   "cell_type": "code",
   "execution_count": 16,
   "id": "82e5be10-b036-4ba2-9f45-b8ff51f267d9",
   "metadata": {},
   "outputs": [
    {
     "name": "stdout",
     "output_type": "stream",
     "text": [
      "1min 38s ± 10.1 s per loop (mean ± std. dev. of 7 runs, 1 loop each)\n"
     ]
    }
   ],
   "source": [
    "%%timeit\n",
    "bucketSort(medium_file_tokens, k)"
   ]
  },
  {
   "cell_type": "code",
   "execution_count": 17,
   "id": "12869fd7",
   "metadata": {},
   "outputs": [
    {
     "name": "stdout",
     "output_type": "stream",
     "text": [
      "bucketSort medium 2.5G file - wall time takes 383.11965799331665 seconds\n",
      "bucketSort medium 2.5G file - run time takes 259.4682889999999 seconds\n"
     ]
    }
   ],
   "source": [
    "start_time = time.time()\n",
    "run_start_time = time.process_time()\n",
    "bucketSort(medium_file_tokens, k)\n",
    "end_time = time.time()\n",
    "run_end_time = time.process_time()\n",
    "\n",
    "print(f\"bucketSort medium 2.5G file - wall time takes {end_time - start_time} seconds\")\n",
    "print(f\"bucketSort medium 2.5G file - run time takes {run_end_time - run_start_time} seconds\")"
   ]
  },
  {
   "cell_type": "code",
   "execution_count": 13,
   "id": "7818955c-67dc-43b9-ba05-59654d2b537b",
   "metadata": {},
   "outputs": [],
   "source": [
    "%%memit\n",
    "bucketSort(medium_file_tokens, k)"
   ]
  },
  {
   "attachments": {},
   "cell_type": "markdown",
   "id": "80852f8d-3b5f-462d-8702-6bd0ab40a983",
   "metadata": {},
   "source": [
    "#### A text file of size 16GB"
   ]
  },
  {
   "cell_type": "code",
   "execution_count": null,
   "id": "6b48628b-a0dd-4a42-8e1e-a40ad9dce3e9",
   "metadata": {},
   "outputs": [],
   "source": [
    "bucketSort(large_file_tokens, k)"
   ]
  },
  {
   "cell_type": "code",
   "execution_count": null,
   "id": "da000a5a-b51e-43bc-ac0b-ce0c6c7b25b2",
   "metadata": {},
   "outputs": [],
   "source": [
    "%%timeit\n",
    "bucketSort(large_file_tokens, k)"
   ]
  },
  {
   "cell_type": "code",
   "execution_count": null,
   "id": "a4a6de87-eeac-4203-9f2b-83cddc012570",
   "metadata": {},
   "outputs": [],
   "source": [
    "%%memit\n",
    "bucketSort(large_file_tokens, k)"
   ]
  },
  {
   "attachments": {},
   "cell_type": "markdown",
   "id": "26787e4c-c2ed-4e89-8f92-051fcebce6b9",
   "metadata": {},
   "source": [
    "## rerun and plot performances on W&B\n",
    "`!python performance.py`"
   ]
  },
  {
   "attachments": {},
   "cell_type": "markdown",
   "id": "97cc4168-c844-4954-92a7-c7690f906a80",
   "metadata": {},
   "source": [
    "### log in to W&B"
   ]
  },
  {
   "cell_type": "code",
   "execution_count": 14,
   "id": "f7addacc-9ec0-4676-bd65-86ff3273d1a9",
   "metadata": {},
   "outputs": [
    {
     "name": "stderr",
     "output_type": "stream",
     "text": [
      "\u001b[34m\u001b[1mwandb\u001b[0m: Currently logged in as: \u001b[33melenaliao\u001b[0m (\u001b[33mdeee\u001b[0m). Use \u001b[1m`wandb login --relogin`\u001b[0m to force relogin\n"
     ]
    },
    {
     "data": {
      "text/html": [
       "wandb version 0.15.4 is available!  To upgrade, please run:\n",
       " $ pip install wandb --upgrade"
      ],
      "text/plain": [
       "<IPython.core.display.HTML object>"
      ]
     },
     "metadata": {},
     "output_type": "display_data"
    },
    {
     "data": {
      "text/html": [
       "Tracking run with wandb version 0.15.3"
      ],
      "text/plain": [
       "<IPython.core.display.HTML object>"
      ]
     },
     "metadata": {},
     "output_type": "display_data"
    },
    {
     "data": {
      "text/html": [
       "Run data is saved locally in <code>/home/wliao14/Data Engineer/wandb/run-20230607_165056-r3qxrf2s</code>"
      ],
      "text/plain": [
       "<IPython.core.display.HTML object>"
      ]
     },
     "metadata": {},
     "output_type": "display_data"
    },
    {
     "data": {
      "text/html": [
       "Syncing run <strong><a href='https://wandb.ai/deee/data%20engineering/runs/r3qxrf2s' target=\"_blank\">young-voice-11</a></strong> to <a href='https://wandb.ai/deee/data%20engineering' target=\"_blank\">Weights & Biases</a> (<a href='https://wandb.me/run' target=\"_blank\">docs</a>)<br/>"
      ],
      "text/plain": [
       "<IPython.core.display.HTML object>"
      ]
     },
     "metadata": {},
     "output_type": "display_data"
    },
    {
     "data": {
      "text/html": [
       " View project at <a href='https://wandb.ai/deee/data%20engineering' target=\"_blank\">https://wandb.ai/deee/data%20engineering</a>"
      ],
      "text/plain": [
       "<IPython.core.display.HTML object>"
      ]
     },
     "metadata": {},
     "output_type": "display_data"
    },
    {
     "data": {
      "text/html": [
       " View run at <a href='https://wandb.ai/deee/data%20engineering/runs/r3qxrf2s' target=\"_blank\">https://wandb.ai/deee/data%20engineering/runs/r3qxrf2s</a>"
      ],
      "text/plain": [
       "<IPython.core.display.HTML object>"
      ]
     },
     "metadata": {},
     "output_type": "display_data"
    }
   ],
   "source": [
    "init_wanb_run(\"data engineering\", small_file_tokens, small_file_name)"
   ]
  },
  {
   "attachments": {},
   "cell_type": "markdown",
   "id": "c6e7d55f-9cb9-41b9-aab7-4fc9d296da68",
   "metadata": {},
   "source": [
    "### record performances"
   ]
  },
  {
   "cell_type": "code",
   "execution_count": 15,
   "id": "83489194-886b-435c-bf82-51cd21b6139b",
   "metadata": {},
   "outputs": [],
   "source": [
    "random.seed(1995)"
   ]
  },
  {
   "cell_type": "code",
   "execution_count": 16,
   "id": "3bf84c48-f821-4e7a-bfaf-c85b01607b3c",
   "metadata": {},
   "outputs": [],
   "source": [
    "bucketSort_performance(small_file_tokens, k)"
   ]
  },
  {
   "cell_type": "code",
   "execution_count": 17,
   "id": "93098cc6-6adb-49d0-9720-0b42e402b717",
   "metadata": {},
   "outputs": [],
   "source": [
    "maxHeap_performance(small_file_tokens, k)"
   ]
  },
  {
   "cell_type": "code",
   "execution_count": 18,
   "id": "5091f694-4ac8-4a5e-9933-25ce7a805826",
   "metadata": {},
   "outputs": [],
   "source": [
    "sorting_performance(small_file_tokens, k)"
   ]
  },
  {
   "cell_type": "code",
   "execution_count": null,
   "id": "e76edec4-b5b9-40b9-a076-40f3c75f6650",
   "metadata": {},
   "outputs": [],
   "source": [
    "wandb.finish()"
   ]
  },
  {
   "cell_type": "code",
   "execution_count": null,
   "id": "1d17ec4a-ad4b-42b9-bc6a-833aaec0dca1",
   "metadata": {},
   "outputs": [],
   "source": [
    "bucketSort_performance(large_file_name, k)"
   ]
  },
  {
   "cell_type": "code",
   "execution_count": null,
   "id": "f24276cd-d378-4276-bf64-a37eddfed2df",
   "metadata": {},
   "outputs": [],
   "source": [
    "maxHeap_performance(large_file_name, k)"
   ]
  },
  {
   "cell_type": "code",
   "execution_count": null,
   "id": "9381d6c2-ef9e-4844-a791-72e32b02008e",
   "metadata": {},
   "outputs": [],
   "source": [
    "sorting_performance(large_file_name, k)"
   ]
  }
 ],
 "metadata": {
  "kernelspec": {
   "display_name": "Python 3 (ipykernel)",
   "language": "python",
   "name": "python3"
  },
  "language_info": {
   "codemirror_mode": {
    "name": "ipython",
    "version": 3
   },
   "file_extension": ".py",
   "mimetype": "text/x-python",
   "name": "python",
   "nbconvert_exporter": "python",
   "pygments_lexer": "ipython3",
   "version": "3.9.16"
  }
 },
 "nbformat": 4,
 "nbformat_minor": 5
}
